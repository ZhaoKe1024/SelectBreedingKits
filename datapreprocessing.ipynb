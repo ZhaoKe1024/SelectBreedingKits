{
 "cells": [
  {
   "cell_type": "code",
   "execution_count": null,
   "id": "2c72583f-e0c9-4219-b4b8-e77b93051b33",
   "metadata": {},
   "outputs": [],
   "source": [
    "from typing import List\n",
    "import pandas as pd\n",
    "from pandas import DataFrame\n",
    "filepath=\"./历代配种方案及出雏对照2021.xlsx\"\n",
    "def get_df_from_xlsx(filepath=\"./历代配种方案及出雏对照2021.xlsx\", sheet_name=None, cols: List = None)->DataFrame:\n",
    "    df_table = pd.read_excel(filepath, sheet_name=sheet_name, header=0, index_col=None,\n",
    "                             usecols=cols)  # about reading xlsx file\n",
    "    parent_df = df_table.dropna(axis=0).astype(int)\n",
    "    return parent_df"
   ]
  },
  {
   "cell_type": "code",
   "execution_count": null,
   "id": "d3ae2ff6-2aa9-47f7-9cb4-6bc8891d3b5e",
   "metadata": {},
   "outputs": [],
   "source": [
    "def get_gender_dict(sheet_name: str) -> dict:\n",
    "    sex_table = get_df_from_xlsx(sheet_name=sheet_name, cols=[1,2,3])\n",
    "    resdict = dict()\n",
    "    for row in sex_table.itertuples():\n",
    "        malename = getattr(row, \"公鸡号\")\n",
    "        femaname = getattr(row, \"母鸡号\")\n",
    "        resdict[str(malename)] = \"公鸡\"\n",
    "        resdict[str(femaname)] = \"母鸡\"\n",
    "    return resdict\n"
   ]
  },
  {
   "cell_type": "code",
   "execution_count": null,
   "id": "8befd188-8b12-4cee-a2a3-57a9cd942618",
   "metadata": {},
   "outputs": [],
   "source": [
    "def set_gender_to_df(sheet_name:str, gendertable:dict=None, savepath:str=\"\") -> None:\n",
    "    edges_df = get_df_from_xlsx(sheet_name=sheet_name, cols=[7,8,9,10])\n",
    "    # print(edges_df)\n",
    "    # print(gendertable)\n",
    "    newcol = []\n",
    "    for idx, row in enumerate(edges_df.itertuples()):\n",
    "        # if sheet_name == \"19\":\n",
    "        # print(\"row:\", row)\n",
    "        wi = str(getattr(row, \"翅号\")) if \"翅号\" in edges_df.columns else str(getattr(row, \"_1\"))\n",
    "        ge = gendertable.get(wi, None)\n",
    "        # print(wi, ge)\n",
    "        if ge:\n",
    "            newcol.append(ge)\n",
    "        else:\n",
    "            newcol.append(float('nan'))\n",
    "    edges_df[\"性别\"] = newcol\n",
    "    # return edges_df\n",
    "    edges_df.to_csv(savepath, sep=',', encoding=\"utf_8\")\n",
    "    print(f\"save successfully sheet {sheet_name}\")\n",
    "\n",
    "# gdict = get_gender_dict(\"17\")\n",
    "# edges_df = set_gender_to_df(sheet_name=\"16\", gendertable=gdict)\n",
    "# edges_df"
   ]
  },
  {
   "cell_type": "code",
   "execution_count": null,
   "id": "ae69b966-c75c-466f-8af3-91864dd67a0b",
   "metadata": {},
   "outputs": [],
   "source": [
    "float('nan')\n",
    "\n",
    "d = {\"2\": 3, \"5\":4}\n",
    "print(gdict.get(\"2\"))\n",
    "print(d.get(\"6\", None))\n",
    "print(d.get(\"6\"))"
   ]
  },
  {
   "cell_type": "code",
   "execution_count": null,
   "id": "e6c8221e-d833-4d71-8a4b-4c8f1af8f5e9",
   "metadata": {},
   "outputs": [],
   "source": [
    "sheet_list = [\"16\", \"17\", \"18\", \"19\", \"20\"]\n",
    "dict_list = []  # 17 18 19 20\n",
    "for i in range(1, 5):\n",
    "    # print(curs, pres)\n",
    "    curs, pres = sheet_list[i], sheet_list[i-1]\n",
    "    gender_table = get_gender_dict(sheet_name=curs)\n",
    "    set_gender_to_df(sheet_name=pres, gendertable=gender_table, savepath=f\"./性别对照sheet{pres}.csv\")"
   ]
  }
 ],
 "metadata": {
  "kernelspec": {
   "display_name": "Python 3 (ipykernel)",
   "language": "python",
   "name": "python3"
  },
  "language_info": {
   "codemirror_mode": {
    "name": "ipython",
    "version": 3
   },
   "file_extension": ".py",
   "mimetype": "text/x-python",
   "name": "python",
   "nbconvert_exporter": "python",
   "pygments_lexer": "ipython3",
   "version": "3.8.5"
  }
 },
 "nbformat": 4,
 "nbformat_minor": 5
}
